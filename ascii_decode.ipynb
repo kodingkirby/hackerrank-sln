{
 "cells": [
  {
   "cell_type": "markdown",
   "metadata": {},
   "source": [
    "Hackerrank ascii decoding solution\n",
    "Uses depth first search with standard recursion"
   ]
  },
  {
   "cell_type": "code",
   "execution_count": 14,
   "metadata": {},
   "outputs": [],
   "source": [
    "valid_ascii_codes  = list(range(65, 91)) + list(range(97, 123)) + [32, 0]\n",
    "\n",
    "def recurse(head, tail):\n",
    "    if len(tail) == 0:\n",
    "        print(head)\n",
    "        return\n",
    "    if int(tail[:2]) in valid_ascii_codes:\n",
    "        recurse(head + chr(int(tail[:2])), tail[2:])\n",
    "    if int(tail[:3]) in valid_ascii_codes:\n",
    "        recurse(head + chr(int(tail[:3])), tail[3:])\n",
    "    return"
   ]
  },
  {
   "cell_type": "code",
   "execution_count": 16,
   "metadata": {},
   "outputs": [
    {
     "name": "stdout",
     "output_type": "stream",
     "text": [
      "HelloWorld\n"
     ]
    }
   ],
   "source": [
    "encoded_string = '0018014111117811180180110127'[::-1] # HelloWorld in ascii reversed\n",
    "\n",
    "recurse('', encoded_string)"
   ]
  }
 ],
 "metadata": {
  "kernelspec": {
   "display_name": "Python [conda env:py37]",
   "language": "python",
   "name": "conda-env-py37-py"
  },
  "language_info": {
   "codemirror_mode": {
    "name": "ipython",
    "version": 2
   },
   "file_extension": ".py",
   "mimetype": "text/x-python",
   "name": "python",
   "nbconvert_exporter": "python",
   "pygments_lexer": "ipython2",
   "version": "2.7.15"
  }
 },
 "nbformat": 4,
 "nbformat_minor": 2
}
